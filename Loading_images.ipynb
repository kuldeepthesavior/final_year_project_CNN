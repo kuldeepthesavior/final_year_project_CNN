{
 "cells": [
  {
   "cell_type": "markdown",
   "metadata": {},
   "source": [
    "## Importing the library"
   ]
  },
  {
   "cell_type": "code",
   "execution_count": 20,
   "metadata": {},
   "outputs": [],
   "source": [
    "import numpy as np\n",
    "import pickle\n",
    "import os\n",
    "import cv2\n",
    "import imutils\n",
    "from matplotlib import pyplot as plt\n",
    "from IPython.display import Image,display"
   ]
  },
  {
   "cell_type": "markdown",
   "metadata": {},
   "source": [
    "## Directory of data images"
   ]
  },
  {
   "cell_type": "code",
   "execution_count": 21,
   "metadata": {},
   "outputs": [],
   "source": [
    "TRAIN_DIR=\"/home/hindu/Desktop/SVM-CNN/FACES/TRAIN/\"\n",
    "TEST_DIR=\"/home/hindu/Desktop/SVM-CNN/FACES/TEST/\""
   ]
  },
  {
   "cell_type": "markdown",
   "metadata": {},
   "source": [
    "## Extracting the labels"
   ]
  },
  {
   "cell_type": "code",
   "execution_count": 22,
   "metadata": {},
   "outputs": [
    {
     "name": "stdout",
     "output_type": "stream",
     "text": [
      "[['mjhans', 1], ['cferdo', 2], ['doraj', 3], ['lejnno', 4], ['cshubb', 5], ['hartb', 6], ['anonym1', 7], ['nwilli', 8], ['ksunth', 9], ['asamma', 10], ['nahaig', 11], ['cwchoi', 12], ['ndhagu', 13], ['9338446', 14], ['dmwest', 15], ['kaknig', 16], ['astefa', 17], ['elduns', 18], ['lyond', 19], ['gpapaz', 20], ['mberdo', 21], ['9416994', 22], ['dagran', 23], ['lfso', 24], ['9414649', 25], ['jabins', 26], ['cjcarr', 27], ['dcbowe', 28], ['ajflem', 29], ['jrtobi', 30], ['csanch', 31], ['anonym2', 32], ['9338497', 33], ['nrrbar', 34], ['ccjame', 35], ['ahodki', 36], ['9336923', 37], ['anpage', 38], ['njmoor', 39], ['ndbank', 40], ['cchris', 41], ['fordj', 42], ['ajsega', 43], ['slbirc', 44], ['obeidn', 45], ['npbour', 46], ['ieorf', 47], ['djbirc', 48], ['djmart', 49], ['cmkirk', 50], ['gmwate', 51], ['nrclar', 52], ['cgboyc', 53], ['mbutle', 54], ['9338462', 55], ['cwang', 56], ['jdbenm', 57], ['kdjone', 58], ['jmedin', 59], ['moors', 60], ['khchan', 61], ['9338489', 62], ['gjhero', 63], ['cjsake', 64], ['dioann', 65], ['9338454', 66], ['ggrego', 67], ['macci', 68], ['akatsi', 69], ['michael', 70], ['9338543', 71], ['jgloma', 72], ['djhugh', 73], ['mhwill', 74], ['mefait', 75], ['npmitc', 76], ['mdpove', 77], ['ekavaz', 78], ['cjdenn', 79], ['gjnorm', 80], ['9332898', 81], ['klclar', 82], ['mpetti', 83], ['ohpark', 84], ['kaatki', 85], ['asheal', 86], ['jcarte', 87], ['9338519', 88], ['9338535', 89], ['ggeorg', 90], ['namull', 91], ['ambarw', 92], ['admars', 93], ['maasht', 94], ['kjwith', 95], ['miaduc', 96], ['gpsmit', 97], ['bplyce', 98], ['asewil', 99], ['anonym', 100], ['khughe', 101], ['jlemon', 102], ['gdhatc', 103], ['9338527', 104], ['martin', 105], ['drbost', 106], ['gsreas', 107], ['dakram', 108], ['nhrams', 109], ['ajones', 110], ['jagrif', 111], ['irdrew', 112], ['hensm', 113], ['muthay', 114], ['9326871', 115]]\n"
     ]
    }
   ],
   "source": [
    "TRAIN_LABELS=[]\n",
    "TEST_LABELS=[]\n",
    "\n",
    "for i , folder in enumerate(os.listdir(TRAIN_DIR)):\n",
    "    TRAIN_LABELS.append([folder,i+1])\n",
    "    \n",
    "for (i , folder) in enumerate(os.listdir(TEST_DIR)):\n",
    "    TEST_LABELS.append([folder,i+1])\n",
    "print(TRAIN_LABELS)"
   ]
  },
  {
   "cell_type": "markdown",
   "metadata": {},
   "source": [
    "## taking dump of test labels"
   ]
  },
  {
   "cell_type": "code",
   "execution_count": 23,
   "metadata": {},
   "outputs": [
    {
     "name": "stdout",
     "output_type": "stream",
     "text": [
      "115\n"
     ]
    }
   ],
   "source": [
    "assert TRAIN_LABELS==TEST_LABELS    #checking if train and test  label are same or not \n",
    "print(len(TRAIN_LABELS))\n",
    "\n",
    "pickle.dump(TEST_LABELS,open(\"Label_Map.label\",\"wb\"))"
   ]
  },
  {
   "cell_type": "markdown",
   "metadata": {},
   "source": [
    "## Loading the train and test data & flip is used to increase the no. of images to train "
   ]
  },
  {
   "cell_type": "code",
   "execution_count": 24,
   "metadata": {},
   "outputs": [],
   "source": [
    "def Load(Dir , Labels):\n",
    "    Train_data=[]\n",
    "    Train_labels=[]\n",
    "    for dir in Labels:\n",
    "        for root,dirs,files in os.walk(Dir+dir[0]):\n",
    "            '''\n",
    "            os.walk Returns three values \n",
    "            \n",
    "            root : Prints out directories only from what you specified.\n",
    "            dirs : Prints out sub-directories from root.\n",
    "            files : Prints out all files from root and directories.\n",
    "            '''\n",
    "            for f in files:\n",
    "                if \"jpg\" in f.split('.'):\n",
    "                    temp_img=cv2.imread(Dir+dir[0]+\"/\"+f) #Reading the images\n",
    "                    \n",
    "                    temp_img=cv2.cvtColor(temp_img,cv2.COLOR_BGR2GRAY)  # conerting the image to GrayScale \n",
    "                    temp_img=imutils.resize(temp_img,40,36) # resizing the gray image to 40 length and 36 width\n",
    "                    flip_img=cv2.flip(temp_img,1)   # flip the image vertically \n",
    "                    temp_img=temp_img.reshape(-1)  #reshape the data to  '1' rows and unknown columns (3,4) to (12,)\n",
    "                    flip_img=flip_img.reshape(-1)\n",
    "                    \n",
    "                    # adding the temp_img to Train_data\n",
    "                    Train_data.append(temp_img)\n",
    "                    Train_labels.append(dir[0])\n",
    "                    \n",
    "                    # adding the flip_img to Train_data\n",
    "                    Train_data.append(flip_img)\n",
    "                    Train_labels.append(dir[0])\n",
    "    \n",
    "    Train_data=np.array(Train_data) # making the list to numpy array\n",
    "    Train_labels=np.array(Train_labels)\n",
    "    \n",
    "    \n",
    "    indexes=np.arange(Train_data.shape[0])  # creating the indexes \n",
    "    np.random.shuffle(indexes)  # suffle the indexes randomly\n",
    "    Train_data=Train_data[indexes]   ## shuffling the data in Train data\n",
    "    Train_labels=Train_labels[indexes]  ## shuffling the data in Train labels\n",
    "    \n",
    "    return [Train_data , Train_labels]\n",
    "    \n",
    "                \n",
    "                          \n",
    "    \n",
    "Train_data,Train_labels=Load(TRAIN_DIR,TRAIN_LABELS)\n",
    "\n",
    "Test_data=Load(TEST_DIR,TEST_LABELS)\n",
    "            "
   ]
  },
  {
   "cell_type": "code",
   "execution_count": 25,
   "metadata": {},
   "outputs": [
    {
     "name": "stdout",
     "output_type": "stream",
     "text": [
      "(3220, 1760)\n",
      "(3220,)\n"
     ]
    }
   ],
   "source": [
    "print(Train_data.shape)\n",
    "print(Train_labels.shape)\n",
    "# print(Train_labels)"
   ]
  },
  {
   "cell_type": "markdown",
   "metadata": {},
   "source": [
    "# Taking the dump of images to train the CNN net"
   ]
  },
  {
   "cell_type": "code",
   "execution_count": 26,
   "metadata": {},
   "outputs": [
    {
     "name": "stdout",
     "output_type": "stream",
     "text": [
      "1384\n"
     ]
    }
   ],
   "source": [
    "## making the data to train the CNN net\n",
    "\n",
    "data={'Train':[Train_data,Train_labels],'Test':Test_data}\n",
    "pickle.dump(data,open('Train_test_data.npy','wb'))\n",
    "print(len(np.array(data['Test'][1])))"
   ]
  },
  {
   "cell_type": "markdown",
   "metadata": {},
   "source": [
    "# Another method to load the data"
   ]
  },
  {
   "cell_type": "code",
   "execution_count": 27,
   "metadata": {},
   "outputs": [
    {
     "data": {
      "text/plain": [
       "(1610, 1760)"
      ]
     },
     "execution_count": 27,
     "metadata": {},
     "output_type": "execute_result"
    }
   ],
   "source": [
    "def load_train_images(folder):\n",
    "    train_images=[]\n",
    "    labels=[]\n",
    "#     count=0\n",
    "#     num_file=0\n",
    "\n",
    "    for filename in os.listdir(folder):\n",
    "        labels.append(filename)\n",
    "        path=(os.path.join(folder,filename))\n",
    "#         num_file+=1\n",
    "#         print(path)\n",
    "        for file in os.listdir(path):\n",
    "#             count+=1\n",
    "#             print(file)\n",
    "            images=cv2.imread(os.path.join(path,file))\n",
    "#             print(images)\n",
    "            if images is not None:\n",
    "                images=cv2.cvtColor(images,cv2.COLOR_BGR2GRAY)\n",
    "                images=imutils.resize(images,40,36)\n",
    "                images=images.reshape(-1)\n",
    "                train_images.append(images)\n",
    "#     print(count,num_file)\n",
    "    train_images=np.array(train_images)\n",
    "    labels=np.array(labels)\n",
    "    \n",
    "    return train_images, labels\n",
    "\n",
    "train_data,labels=load_train_images('/home/hindu/Desktop/SVM-CNN/FACES/TRAIN')\n",
    "train_data.shape\n",
    "# labels.shape\n",
    "# labels\n"
   ]
  },
  {
   "cell_type": "code",
   "execution_count": 28,
   "metadata": {},
   "outputs": [
    {
     "data": {
      "text/plain": [
       "(115,)"
      ]
     },
     "execution_count": 28,
     "metadata": {},
     "output_type": "execute_result"
    }
   ],
   "source": [
    "def load_test_images(folder):\n",
    "    train_images=[]\n",
    "    labels=[]\n",
    "#     count=0\n",
    "    for filename in os.listdir(folder):\n",
    "        labels.append(filename)\n",
    "        path=(os.path.join(folder,filename))\n",
    "        for file in os.listdir(path):\n",
    "#             print(file)\n",
    "#             count+=1\n",
    "            images=cv2.imread(os.path.join(path,file))\n",
    "#             print(images)\n",
    "            if images is not None:\n",
    "                images=cv2.cvtColor(images,cv2.COLOR_BGR2GRAY)\n",
    "                images=imutils.resize(images,40,36)\n",
    "                images=images.reshape(-1)\n",
    "                images=images.reshape(-1)\n",
    "                train_images.append(images)\n",
    "    \n",
    "    \n",
    "    train_images=np.array(train_images)\n",
    "    labels=np.array(labels)\n",
    "    \n",
    "#     print(count)\n",
    "\n",
    "    return train_images,labels\n",
    "\n",
    "test_data,labels=load_test_images('/home/hindu/Desktop/SVM-CNN/FACES/TEST')\n",
    "# df=pd.DataFrame(test_data)\n",
    "test_data.shape\n",
    "labels.shape"
   ]
  },
  {
   "cell_type": "code",
   "execution_count": null,
   "metadata": {},
   "outputs": [],
   "source": []
  }
 ],
 "metadata": {
  "kernelspec": {
   "display_name": "Python 3",
   "language": "python",
   "name": "python3"
  },
  "language_info": {
   "codemirror_mode": {
    "name": "ipython",
    "version": 3
   },
   "file_extension": ".py",
   "mimetype": "text/x-python",
   "name": "python",
   "nbconvert_exporter": "python",
   "pygments_lexer": "ipython3",
   "version": "3.7.3"
  }
 },
 "nbformat": 4,
 "nbformat_minor": 2
}
